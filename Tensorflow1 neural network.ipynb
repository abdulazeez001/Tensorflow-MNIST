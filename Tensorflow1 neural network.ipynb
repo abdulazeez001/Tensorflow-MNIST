{
 "cells": [
  {
   "cell_type": "code",
   "execution_count": 1,
   "metadata": {},
   "outputs": [],
   "source": [
    "import tensorflow as tf"
   ]
  },
  {
   "cell_type": "code",
   "execution_count": 8,
   "metadata": {},
   "outputs": [
    {
     "name": "stdout",
     "output_type": "stream",
     "text": [
      "WARNING:tensorflow:From <ipython-input-8-dbc7d7efeb7a>:2: read_data_sets (from tensorflow.contrib.learn.python.learn.datasets.mnist) is deprecated and will be removed in a future version.\n",
      "Instructions for updating:\n",
      "Please use alternatives such as official/mnist/dataset.py from tensorflow/models.\n",
      "WARNING:tensorflow:From C:\\Users\\UNION\\myconda\\lib\\site-packages\\tensorflow\\contrib\\learn\\python\\learn\\datasets\\mnist.py:260: maybe_download (from tensorflow.contrib.learn.python.learn.datasets.base) is deprecated and will be removed in a future version.\n",
      "Instructions for updating:\n",
      "Please write your own downloading logic.\n",
      "WARNING:tensorflow:From C:\\Users\\UNION\\myconda\\lib\\site-packages\\tensorflow\\contrib\\learn\\python\\learn\\datasets\\mnist.py:262: extract_images (from tensorflow.contrib.learn.python.learn.datasets.mnist) is deprecated and will be removed in a future version.\n",
      "Instructions for updating:\n",
      "Please use tf.data to implement this functionality.\n",
      "Extracting MNIST_data/train-images-idx3-ubyte.gz\n",
      "WARNING:tensorflow:From C:\\Users\\UNION\\myconda\\lib\\site-packages\\tensorflow\\contrib\\learn\\python\\learn\\datasets\\mnist.py:267: extract_labels (from tensorflow.contrib.learn.python.learn.datasets.mnist) is deprecated and will be removed in a future version.\n",
      "Instructions for updating:\n",
      "Please use tf.data to implement this functionality.\n",
      "Extracting MNIST_data/train-labels-idx1-ubyte.gz\n",
      "WARNING:tensorflow:From C:\\Users\\UNION\\myconda\\lib\\site-packages\\tensorflow\\contrib\\learn\\python\\learn\\datasets\\mnist.py:110: dense_to_one_hot (from tensorflow.contrib.learn.python.learn.datasets.mnist) is deprecated and will be removed in a future version.\n",
      "Instructions for updating:\n",
      "Please use tf.one_hot on tensors.\n",
      "Extracting MNIST_data/t10k-images-idx3-ubyte.gz\n",
      "Extracting MNIST_data/t10k-labels-idx1-ubyte.gz\n",
      "WARNING:tensorflow:From C:\\Users\\UNION\\myconda\\lib\\site-packages\\tensorflow\\contrib\\learn\\python\\learn\\datasets\\mnist.py:290: DataSet.__init__ (from tensorflow.contrib.learn.python.learn.datasets.mnist) is deprecated and will be removed in a future version.\n",
      "Instructions for updating:\n",
      "Please use alternatives such as official/mnist/dataset.py from tensorflow/models.\n"
     ]
    }
   ],
   "source": [
    "from tensorflow.examples.tutorials.mnist import input_data\n",
    "mnist = input_data.read_data_sets(\"MNIST_data/\",one_hot=True)"
   ]
  },
  {
   "cell_type": "markdown",
   "metadata": {},
   "source": [
    "FORWARD PROPAGATION\n",
    "input > weights > hidden_layer1(activation function) > weights > hiddenlayer2(activation function) >weights>output layer\n",
    "BACKWARD PROPAGATION\n",
    "compare output to indenteded output > cost function(cross entropy) > optimization function(optimizer) > minimize cost(AdamOptimizer...SGD,AdaGrad)\n",
    "FORWARD PROPAGATION + BACKWARD PROPGATION = EPOCH"
   ]
  },
  {
   "cell_type": "code",
   "execution_count": 50,
   "metadata": {},
   "outputs": [],
   "source": [
    "nodes1 =500\n",
    "nodes2 = 500\n",
    "nodes3 = 500\n",
    "n_classes = 10 \n",
    "batch_size = 100\n",
    "x = tf.placeholder('float',[None,784])\n",
    "y = tf.placeholder('float')\n",
    "def neural_network_model(data):\n",
    "    hidden1 = {'weights':tf.Variable(tf.random_normal([784,nodes1])),\n",
    "              'biases':tf.Variable(tf.random_normal([nodes1]))}\n",
    "    hidden2 = {'weights':tf.Variable(tf.random_normal([nodes1,nodes2])),\n",
    "              'biases':tf.Variable(tf.random_normal([nodes2]))}\n",
    "    hidden3 = {'weights':tf.Variable(tf.random_normal([nodes2,nodes3])),\n",
    "              'biases':tf.Variable(tf.random_normal([nodes3]))}\n",
    "    output_l = {'weights':tf.Variable(tf.random_normal([nodes3,n_classes])),\n",
    "              'biases':tf.Variable(tf.random_normal([n_classes]))}\n",
    "    \n",
    "    l1 = tf.add(tf.matmul(data,hidden1['weights']),hidden1['biases'])\n",
    "    l1 = tf.nn.relu(l1)\n",
    "    \n",
    "    l2 = tf.add(tf.matmul(l1,hidden2['weights']), hidden2['biases'])\n",
    "    l2 = tf.nn.relu(l2)\n",
    "    \n",
    "    l3 = tf.add(tf.matmul(l2,hidden3['weights']), hidden3['biases'])\n",
    "    l3 = tf.nn.relu(l3)\n",
    "    \n",
    "    output = tf.matmul(l3,output_l['weights']) + output_l['biases']\n",
    "    \n",
    "    return output\n",
    "    \n",
    "                       \n",
    "                       \n",
    "    \n",
    "    "
   ]
  },
  {
   "cell_type": "code",
   "execution_count": 55,
   "metadata": {},
   "outputs": [],
   "source": [
    "def train_neural_network(x):\n",
    "    prediction = neural_network_model(x)\n",
    "    cost = tf.reduce_mean(tf.nn.softmax_cross_entropy_with_logits(logits = prediction,labels = y))\n",
    "    #learning_rate\n",
    "    optimizer = tf.train.AdamOptimizer().minimize(cost)\n",
    "    \n",
    "    hm_epochs = 10\n",
    "    \n",
    "    with tf.Session() as sess:\n",
    "        sess.run(tf.initialize_all_variables())\n",
    "        \n",
    "        for epoch in range(hm_epochs):\n",
    "            epoch_loss = 0\n",
    "            for _ in range(int(mnist.train.num_examples / batch_size)):\n",
    "                epochx,epochy = mnist.train.next_batch(batch_size)\n",
    "                _,c =sess.run([optimizer,cost],feed_dict = {x:epochx,y:epochy})\n",
    "                epoch_loss += c\n",
    "            print('Epoch',epoch,'completed out of',hm_epochs,'loss:',epoch_loss)\n",
    "            \n",
    "            \n",
    "            \n",
    "        correct = tf.equal(tf.argmax(prediction,1),tf.argmax(y,1))\n",
    "        accuracy = tf.reduce_mean(tf.cast(correct,'float'))\n",
    "        print('Accuracy:',accuracy.eval({x:mnist.test.images,y:mnist.test.labels}))\n",
    "  "
   ]
  },
  {
   "cell_type": "code",
   "execution_count": 56,
   "metadata": {},
   "outputs": [
    {
     "name": "stdout",
     "output_type": "stream",
     "text": [
      "WARNING:tensorflow:From C:\\Users\\UNION\\myconda\\lib\\site-packages\\tensorflow\\python\\util\\tf_should_use.py:193: initialize_all_variables (from tensorflow.python.ops.variables) is deprecated and will be removed after 2017-03-02.\n",
      "Instructions for updating:\n",
      "Use `tf.global_variables_initializer` instead.\n",
      "Epoch 0 completed out of 10 loss: 1794394.4343261719\n",
      "Epoch 1 completed out of 10 loss: 424517.31899261475\n",
      "Epoch 2 completed out of 10 loss: 231928.41636919975\n",
      "Epoch 3 completed out of 10 loss: 137589.12526583672\n",
      "Epoch 4 completed out of 10 loss: 84381.00397984497\n",
      "Epoch 5 completed out of 10 loss: 55368.27917720318\n",
      "Epoch 6 completed out of 10 loss: 39225.96487392545\n",
      "Epoch 7 completed out of 10 loss: 28729.85876384008\n",
      "Epoch 8 completed out of 10 loss: 22624.65742892027\n",
      "Epoch 9 completed out of 10 loss: 20651.848116361798\n",
      "Accuracy: 0.9498\n"
     ]
    }
   ],
   "source": [
    "train_neural_network(x)"
   ]
  },
  {
   "cell_type": "code",
   "execution_count": null,
   "metadata": {},
   "outputs": [],
   "source": []
  }
 ],
 "metadata": {
  "kernelspec": {
   "display_name": "Python 3",
   "language": "python",
   "name": "python3"
  },
  "language_info": {
   "codemirror_mode": {
    "name": "ipython",
    "version": 3
   },
   "file_extension": ".py",
   "mimetype": "text/x-python",
   "name": "python",
   "nbconvert_exporter": "python",
   "pygments_lexer": "ipython3",
   "version": "3.7.3"
  }
 },
 "nbformat": 4,
 "nbformat_minor": 2
}
